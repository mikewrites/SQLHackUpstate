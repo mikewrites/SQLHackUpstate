{
 "cells": [
  {
   "cell_type": "code",
   "execution_count": 2,
   "id": "7239609e-a8e7-484b-8b5b-9174c918926e",
   "metadata": {},
   "outputs": [],
   "source": [
    "import pandas as pd"
   ]
  },
  {
   "cell_type": "code",
   "execution_count": 4,
   "id": "44df4190-5263-4b80-b9a7-de1d3d480ce0",
   "metadata": {},
   "outputs": [],
   "source": [
    "df = pd.read_csv('employee/employees.csv')"
   ]
  },
  {
   "cell_type": "code",
   "execution_count": 5,
   "id": "a44d1e3e-9047-4677-9a3e-85e1da639782",
   "metadata": {},
   "outputs": [
    {
     "data": {
      "text/plain": [
       "Index(['EMPLOYEE_ID', 'FIRST_NAME', 'LAST_NAME', 'EMAIL', 'PHONE_NUMBER',\n",
       "       'HIRE_DATE', 'JOB_ID', 'SALARY', 'COMMISSION_PCT', 'MANAGER_ID',\n",
       "       'DEPARTMENT_ID'],\n",
       "      dtype='object')"
      ]
     },
     "execution_count": 5,
     "metadata": {},
     "output_type": "execute_result"
    }
   ],
   "source": [
    "df.columns"
   ]
  },
  {
   "cell_type": "code",
   "execution_count": 6,
   "id": "e17eaa5c-c37b-41d4-b0c6-88ee8939bb6f",
   "metadata": {},
   "outputs": [],
   "source": [
    "df_out = df[['FIRST_NAME', 'LAST_NAME', 'EMAIL', 'PHONE_NUMBER']]"
   ]
  },
  {
   "cell_type": "code",
   "execution_count": 7,
   "id": "b50d6e21-2fa3-45f6-b00d-597f36a99791",
   "metadata": {},
   "outputs": [],
   "source": [
    "df_out.to_csv('employees.csv')"
   ]
  },
  {
   "cell_type": "code",
   "execution_count": null,
   "id": "18c1508c-3a17-4da5-bb7a-931fd4c54d87",
   "metadata": {},
   "outputs": [],
   "source": []
  }
 ],
 "metadata": {
  "kernelspec": {
   "display_name": "Python 3",
   "language": "python",
   "name": "python3"
  },
  "language_info": {
   "codemirror_mode": {
    "name": "ipython",
    "version": 3
   },
   "file_extension": ".py",
   "mimetype": "text/x-python",
   "name": "python",
   "nbconvert_exporter": "python",
   "pygments_lexer": "ipython3",
   "version": "3.8.8"
  }
 },
 "nbformat": 4,
 "nbformat_minor": 5
}
